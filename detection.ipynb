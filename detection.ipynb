{
 "cells": [
  {
   "cell_type": "markdown",
   "metadata": {},
   "source": [
    "IMPORTING MODULES"
   ]
  },
  {
   "cell_type": "code",
   "execution_count": 1,
   "metadata": {},
   "outputs": [],
   "source": [
    "import sys\n",
    "import cv2"
   ]
  },
  {
   "cell_type": "markdown",
   "metadata": {},
   "source": [
    "Defining xml files, cascade, video file and output file"
   ]
  },
  {
   "cell_type": "code",
   "execution_count": 2,
   "metadata": {},
   "outputs": [],
   "source": [
    "video_src = sys.argv[1]\n",
    "\n",
    "car_cascade_src = 'cars.xml'\n",
    "cap = cv2.VideoCapture(video_src)\n",
    "car_cascade = cv2.CascadeClassifier(car_cascade_src)\n",
    "\n",
    "bike_cascade_src = 'two_wheeler.xml'\n",
    "cap = cv2.VideoCapture(video_src)\n",
    "bike_cascade = cv2.CascadeClassifier(bike_cascade_src)\n",
    "\n",
    "file = open('data.txt', \"w+\")"
   ]
  },
  {
   "cell_type": "markdown",
   "metadata": {},
   "source": [
    "Here we are reading the video file and converting it into grayscale. <br>\n",
    "Then we are detecting the vehicle via haar cascade method and highlighting it using a rectangular box. <br>\n",
    "The detection is happening in real time. <br>\n",
    "Then we are saving the count of vehicle in a file in the same directory with the name as 'data.txt'. <br>\n",
    "Example images of detection can be found in the same directory."
   ]
  },
  {
   "cell_type": "code",
   "execution_count": 3,
   "metadata": {},
   "outputs": [],
   "source": [
    "while True:\n",
    "    ret, img = cap.read()\n",
    "    \n",
    "    if (type(img) == type(None)):\n",
    "        break\n",
    "    \n",
    "    gray = cv2.cvtColor(img, cv2.COLOR_BGR2GRAY)\n",
    "    \n",
    "    cars = car_cascade.detectMultiScale(gray,1.01, 1)\n",
    "    bikes = bike_cascade.detectMultiScale(gray,1.01, 1)\n",
    "\n",
    "    data = \"for timestamp \" + str(cap.get(cv2.CAP_PROP_POS_MSEC)) + \" ms no of cars are : - \" + str(len(cars)) + \" and number of bikes are : - \" + str(len(bikes)) + '\\n'\n",
    "    file.write(data)\n",
    "    print(data)\n",
    "\n",
    "\n",
    "    for (x,y,w,h) in cars:\n",
    "        cv2.rectangle(img,(x,y),(x+w,y+h),(0,255,215),2)\n",
    "    \n",
    "    cv2.imshow('video', img)\n",
    "\n",
    "    for (x,y,w,h) in bikes:\n",
    "        cv2.rectangle(img,(x,y),(x+w,y+h),(0,255,215),2)\n",
    "    \n",
    "    if cv2.waitKey(33) == 27:\n",
    "        break\n",
    "\n",
    "cv2.destroyAllWindows()\n",
    "file.close()"
   ]
  }
 ],
 "metadata": {
  "kernelspec": {
   "display_name": "Python 3.10.6 ('Vehicle-Counting-18vQo7Ev')",
   "language": "python",
   "name": "python3"
  },
  "language_info": {
   "codemirror_mode": {
    "name": "ipython",
    "version": 3
   },
   "file_extension": ".py",
   "mimetype": "text/x-python",
   "name": "python",
   "nbconvert_exporter": "python",
   "pygments_lexer": "ipython3",
   "version": "3.10.6"
  },
  "orig_nbformat": 4,
  "vscode": {
   "interpreter": {
    "hash": "018e138e76f7ad57c5bcf45debd69c138dedd21b9de77f3e4be440a5488dd056"
   }
  }
 },
 "nbformat": 4,
 "nbformat_minor": 2
}
